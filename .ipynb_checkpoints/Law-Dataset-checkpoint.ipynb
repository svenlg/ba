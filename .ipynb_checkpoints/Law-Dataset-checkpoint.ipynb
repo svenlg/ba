{
 "cells": [
  {
   "cell_type": "code",
   "execution_count": 3,
   "id": "5f881ef5",
   "metadata": {},
   "outputs": [
    {
     "ename": "ImportError",
     "evalue": "cannot import name 'LawDatasetForMasking' from 'get_data_tensors' (C:\\Users\\user\\Bachelor\\ba\\get_data_tensors.py)",
     "output_type": "error",
     "traceback": [
      "\u001b[1;31m---------------------------------------------------------------------------\u001b[0m",
      "\u001b[1;31mImportError\u001b[0m                               Traceback (most recent call last)",
      "Input \u001b[1;32mIn [3]\u001b[0m, in \u001b[0;36m<cell line: 5>\u001b[1;34m()\u001b[0m\n\u001b[0;32m      3\u001b[0m \u001b[38;5;28;01mfrom\u001b[39;00m \u001b[38;5;21;01msklearn\u001b[39;00m\u001b[38;5;21;01m.\u001b[39;00m\u001b[38;5;21;01mmodel_selection\u001b[39;00m \u001b[38;5;28;01mimport\u001b[39;00m train_test_split\n\u001b[0;32m      4\u001b[0m \u001b[38;5;28;01mfrom\u001b[39;00m \u001b[38;5;21;01mtransformers\u001b[39;00m \u001b[38;5;28;01mimport\u001b[39;00m AutoModel\n\u001b[1;32m----> 5\u001b[0m \u001b[38;5;28;01mfrom\u001b[39;00m \u001b[38;5;21;01mget_data_tensors\u001b[39;00m \u001b[38;5;28;01mimport\u001b[39;00m get_laws, LawDatasetForMasking \n\u001b[0;32m      6\u001b[0m \u001b[38;5;28;01mfrom\u001b[39;00m \u001b[38;5;21;01mtorch\u001b[39;00m\u001b[38;5;21;01m.\u001b[39;00m\u001b[38;5;21;01mutils\u001b[39;00m\u001b[38;5;21;01m.\u001b[39;00m\u001b[38;5;21;01mdata\u001b[39;00m \u001b[38;5;28;01mimport\u001b[39;00m DataLoader\n\u001b[0;32m      7\u001b[0m \u001b[38;5;28;01mfrom\u001b[39;00m \u001b[38;5;21;01mtorch\u001b[39;00m\u001b[38;5;21;01m.\u001b[39;00m\u001b[38;5;21;01moptim\u001b[39;00m \u001b[38;5;28;01mimport\u001b[39;00m Adam\n",
      "\u001b[1;31mImportError\u001b[0m: cannot import name 'LawDatasetForMasking' from 'get_data_tensors' (C:\\Users\\user\\Bachelor\\ba\\get_data_tensors.py)"
     ]
    }
   ],
   "source": [
    "# Imports\n",
    "import torch\n",
    "from sklearn.model_selection import train_test_split\n",
    "from transformers import AutoModel\n",
    "from get_data_tensors import get_laws, LawDatasetForMasking \n",
    "from torch.utils.data import DataLoader\n",
    "from torch.optim import Adam"
   ]
  },
  {
   "cell_type": "code",
   "execution_count": 2,
   "id": "e60c4d4c",
   "metadata": {},
   "outputs": [
    {
     "name": "stderr",
     "output_type": "stream",
     "text": [
      "Some weights of the model checkpoint at dbmdz/bert-base-german-cased were not used when initializing BertModel: ['cls.predictions.decoder.weight', 'cls.predictions.bias', 'cls.predictions.transform.dense.bias', 'cls.predictions.transform.LayerNorm.weight', 'cls.predictions.transform.dense.weight', 'cls.predictions.transform.LayerNorm.bias']\n",
      "- This IS expected if you are initializing BertModel from the checkpoint of a model trained on another task or with another architecture (e.g. initializing a BertForSequenceClassification model from a BertForPreTraining model).\n",
      "- This IS NOT expected if you are initializing BertModel from the checkpoint of a model that you expect to be exactly identical (initializing a BertForSequenceClassification model from a BertForSequenceClassification model).\n"
     ]
    }
   ],
   "source": [
    "# Pretrained model\n",
    "checkpoint = 'dbmdz/bert-base-german-cased'\n",
    "model = AutoModel.from_pretrained(checkpoint)"
   ]
  },
  {
   "cell_type": "code",
   "execution_count": null,
   "id": "5a2eb58d",
   "metadata": {},
   "outputs": [],
   "source": [
    "# Getting the data train and test and split the trainings data into train and val sets\n",
    "# see format of laws in LawDataset.py\n",
    "laws = get_laws(0.02)\n",
    "train_laws, val_laws = train_test_split(laws, test_size=.5)\n",
    "#test_laws = get_laws()\n",
    "\n",
    "train_dataset = LawDatasetForMasking(train_laws)\n",
    "val_dataset = LawDatasetForMasking(val_laws)\n",
    "# test_dataset = LawDataset(test_laws)"
   ]
  },
  {
   "cell_type": "code",
   "execution_count": null,
   "id": "e8d4ce59",
   "metadata": {},
   "outputs": [],
   "source": [
    "train_loader = DataLoader(train_dataset, batch_size=1, shuffle=True)\n",
    "\n",
    "num_train_epochs = 2\n",
    "\n",
    "print('training kann beginnen')"
   ]
  },
  {
   "cell_type": "code",
   "execution_count": null,
   "id": "1ff6f946",
   "metadata": {},
   "outputs": [],
   "source": [
    "# or native Pytorch\n",
    "device = torch.device('cuda') if torch.cuda.is_available() else torch.device('cpu')\n",
    "\n",
    "model.to(device)\n",
    "model.train()\n",
    "\n",
    "optim = Adam(model.parameters(), lr=5e-5)"
   ]
  },
  {
   "cell_type": "code",
   "execution_count": null,
   "id": "c3266e10",
   "metadata": {},
   "outputs": [],
   "source": [
    "for batch in train_loader:\n",
    "    # print(len(batch)) 3\n",
    "    old = batch[0]\n",
    "    cha = batch[1]\n",
    "    new = batch[2]\n",
    "    # print(type(old[0])) dict\n",
    "    for i in range(len(old)):\n",
    "        input_ids = torch.squeeze(old[i]['input_ids'])\n",
    "        attention_mask = torch.squeeze(old[i]['attention_mask'])\n",
    "        print(input_ids)\n",
    "        outputs = model(input_ids,attention_mask=attention_mask)\n",
    "        #input_ids = old[i]['input_ids']\n",
    "        #attention_mask = old[i]['attention_mask']\n",
    "        print(outputs.shape)\n",
    "        break\n",
    "    \n",
    "    \n",
    "    #print(input_ids)\n",
    "    #print(attention_mask)\n",
    "    print('moin')"
   ]
  },
  {
   "cell_type": "code",
   "execution_count": null,
   "id": "fd6bfa40",
   "metadata": {},
   "outputs": [],
   "source": [
    "for epoch in range(num_train_epochs):\n",
    "    for batch in train_loader:\n",
    "        optim.zero_grad()\n",
    "        input_ids = batch['input_ids'].to(device)\n",
    "        attention_mask = batch['attention_mask'].to(device)\n",
    "        labels = batch['labels'].to(device)\n",
    "        \n",
    "        outputs = model(input_ids, attention_mask=attention_mask, labels=labels)\n",
    "        \n",
    "        loss = outputs[0]\n",
    "        loss.backward()\n",
    "        optim.step()\n",
    "        \n",
    "model.eval()"
   ]
  },
  {
   "cell_type": "code",
   "execution_count": null,
   "id": "7b18d213",
   "metadata": {},
   "outputs": [],
   "source": [
    "#outputs = model(**input_dict)\n",
    "#\n",
    "#outputs"
   ]
  },
  {
   "cell_type": "code",
   "execution_count": null,
   "id": "9fcaea0b",
   "metadata": {},
   "outputs": [],
   "source": [
    "# train_dataset = LawDataset(tr_enc_old, tr_enc_change, tr_enc_new)\n",
    "# val_dataset = LawDataset(val_enc_old, val_enc_change, val_enc_new)\n",
    "# test_dataset = LawDataset(test_encodings, test_labels)\n",
    "\n",
    "# print('So weit geht es!')"
   ]
  }
 ],
 "metadata": {
  "kernelspec": {
   "display_name": "Python 3 (ipykernel)",
   "language": "python",
   "name": "python3"
  },
  "language_info": {
   "codemirror_mode": {
    "name": "ipython",
    "version": 3
   },
   "file_extension": ".py",
   "mimetype": "text/x-python",
   "name": "python",
   "nbconvert_exporter": "python",
   "pygments_lexer": "ipython3",
   "version": "3.8.8"
  }
 },
 "nbformat": 4,
 "nbformat_minor": 5
}
