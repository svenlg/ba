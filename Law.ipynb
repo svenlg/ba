{
 "cells": [
  {
   "cell_type": "code",
   "execution_count": null,
   "id": "ddde3752",
   "metadata": {},
   "outputs": [],
   "source": [
    "# get_laws()\n",
    "# print('Done!')"
   ]
  },
  {
   "cell_type": "code",
   "execution_count": 9,
   "id": "51a97edf",
   "metadata": {},
   "outputs": [],
   "source": [
    "def masking_task(data):\n",
    "    data_length = len(data)\n",
    "    \n",
    "    out = []\n",
    "    for law in data:\n",
    "        for change in law:\n",
    "            old, change, new = change\n",
    "            out.append(old)\n",
    "            out.append(change)\n",
    "            out.append(new)\n",
    "        \n",
    "    return out"
   ]
  },
  {
   "cell_type": "code",
   "execution_count": 12,
   "id": "3daa8d8e",
   "metadata": {},
   "outputs": [
    {
     "name": "stdout",
     "output_type": "stream",
     "text": [
      "BetrVG\n",
      "AufenthG\n",
      "GKG\n",
      "UrhG\n",
      "KVAV\n",
      "IfSG\n"
     ]
    }
   ],
   "source": [
    "data = get_laws(0.05)"
   ]
  },
  {
   "cell_type": "code",
   "execution_count": 13,
   "id": "4547849e",
   "metadata": {},
   "outputs": [],
   "source": [
    "#data = masking_task(data)\n",
    "#data"
   ]
  },
  {
   "cell_type": "code",
   "execution_count": 14,
   "id": "fa382d6d",
   "metadata": {},
   "outputs": [
    {
     "data": {
      "text/plain": [
       "6"
      ]
     },
     "execution_count": 14,
     "metadata": {},
     "output_type": "execute_result"
    }
   ],
   "source": [
    "len(data)"
   ]
  },
  {
   "cell_type": "code",
   "execution_count": null,
   "id": "c471a0a4",
   "metadata": {},
   "outputs": [],
   "source": []
  },
  {
   "cell_type": "code",
   "execution_count": null,
   "id": "6739eb77",
   "metadata": {},
   "outputs": [],
   "source": []
  },
  {
   "cell_type": "code",
   "execution_count": 32,
   "id": "bfe4b4eb",
   "metadata": {},
   "outputs": [],
   "source": [
    "class LawDatasetForMasking(Dataset):\n",
    "    \n",
    "    def __init__(self, data):\n",
    "        data = self.masking_task(data)\n",
    "        self.data = data\n",
    "        \n",
    "    def __len__(self):\n",
    "        return len(self.data)\n",
    "\n",
    "    def masking_task(self, data):\n",
    "        out = []\n",
    "        for law in data:\n",
    "            for change in law:\n",
    "                old, change, new = change\n",
    "                out.append(old)\n",
    "                out.append(change)\n",
    "                out.append(new)\n",
    "        return out\n",
    "    \n",
    "    def __getitem__(self, idx):\n",
    "        return self.data[idx]"
   ]
  },
  {
   "cell_type": "code",
   "execution_count": 33,
   "id": "19867dd5",
   "metadata": {},
   "outputs": [],
   "source": [
    "train = LawDatasetForMasking(data)"
   ]
  },
  {
   "cell_type": "code",
   "execution_count": 34,
   "id": "61a3300a",
   "metadata": {
    "scrolled": false
   },
   "outputs": [
    {
     "data": {
      "text/plain": [
       "{'input_ids': tensor([[  101, 29977, 13981,  ...,   311,  3461,   102],\n",
       "         [  101,   132,   195,  ...,  9837,  2820,   102],\n",
       "         [  101, 30889,  2506,  ..., 22672, 12842,   102],\n",
       "         ...,\n",
       "         [  101,  5607,   197,  ...,  5465,   566,   102],\n",
       "         [  101,  9837, 29519,  ..., 18191,   222,   102],\n",
       "         [  101, 16081,  4884,  ...,     0,     0,     0]]),\n",
       " 'attention_mask': tensor([[1, 1, 1,  ..., 1, 1, 1],\n",
       "         [1, 1, 1,  ..., 1, 1, 1],\n",
       "         [1, 1, 1,  ..., 1, 1, 1],\n",
       "         ...,\n",
       "         [1, 1, 1,  ..., 1, 1, 1],\n",
       "         [1, 1, 1,  ..., 1, 1, 1],\n",
       "         [1, 1, 1,  ..., 0, 0, 0]], dtype=torch.int32)}"
      ]
     },
     "execution_count": 34,
     "metadata": {},
     "output_type": "execute_result"
    }
   ],
   "source": [
    "train.__getitem__(500)"
   ]
  },
  {
   "cell_type": "code",
   "execution_count": 31,
   "id": "f2e0aa38",
   "metadata": {},
   "outputs": [],
   "source": [
    "# print(type(data)) # list: Gesetzten die genutzt werden\n",
    "# print(len(data))  # int(split*len(laws))\n",
    "\n",
    "# print(type(data[0])) # list: Changes die es gab pro Gesetz\n",
    "# print(len(data[0]))  # Num an Changes\n",
    "      \n",
    "# print(type(data[0][0])) # tuple: old, change, new\n",
    "# print(len(data[0][0]))  # 3\n",
    "\n",
    "# print(type(data[0][0][0])) # dict: key: ('input_ids', 'attention_mask') values: there pt_tensor representation\n",
    "\n",
    "# print(data[0][0][0]['input_ids'].shape) #shape = (__,512)\n",
    "# print(data[0][0][0]['input_ids']) #pt_tensor long: attual data\n",
    "# print(data[0][0][0]['attention_mask']) #pt_tensor int: only 1 (attention) or 0 (no attention)"
   ]
  },
  {
   "cell_type": "code",
   "execution_count": null,
   "id": "05dde0e9",
   "metadata": {},
   "outputs": [],
   "source": []
  }
 ],
 "metadata": {
  "kernelspec": {
   "display_name": "Python 3 (ipykernel)",
   "language": "python",
   "name": "python3"
  },
  "language_info": {
   "codemirror_mode": {
    "name": "ipython",
    "version": 3
   },
   "file_extension": ".py",
   "mimetype": "text/x-python",
   "name": "python",
   "nbconvert_exporter": "python",
   "pygments_lexer": "ipython3",
   "version": "3.8.8"
  }
 },
 "nbformat": 4,
 "nbformat_minor": 5
}
