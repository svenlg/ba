{
 "cells": [
  {
   "cell_type": "code",
   "execution_count": 46,
   "id": "e595f583",
   "metadata": {},
   "outputs": [],
   "source": [
    "# Import\n",
    "import torch\n",
    "from transformers import AutoTokenizer\n",
    "import numpy as np\n",
    "from bs4 import BeautifulSoup\n",
    "import urllib.request\n",
    "\n",
    "\n",
    "checkpoint = \"dbmdz/bert-base-german-cased\"\n",
    "\n",
    "tokenizer = AutoTokenizer.from_pretrained(checkpoint)"
   ]
  },
  {
   "cell_type": "code",
   "execution_count": 145,
   "id": "f9e5d063",
   "metadata": {},
   "outputs": [],
   "source": [
    "def html_to_str_to_tensor(url, save):\n",
    "    html = urllib.request.urlopen(url).read()\n",
    "    soup = BeautifulSoup(html, features=\"html.parser\")\n",
    "    text = soup.get_text()\n",
    "    \n",
    "    tokens_np = tokenizer.encode_plus(\n",
    "            text, add_special_tokens=False,\n",
    "            return_tensors='np')\n",
    "    \n",
    "    tensor = tokens_np.input_ids[0]\n",
    "    save_path = '../Data_Laws/' + save\n",
    "    \n",
    "    np.save(save_path, tensor)\n",
    "    \n",
    "    return"
   ]
  },
  {
   "cell_type": "code",
   "execution_count": 225,
   "id": "5d3961c2",
   "metadata": {},
   "outputs": [],
   "source": [
    "def get_old_change_new(law):\n",
    "\n",
    "    law = str(law)\n",
    "    fname = '../Data_Laws/' + law + '/'\n",
    "    path = 'file:///C:/Users/user/Bachelor/Data_Laws/' + law + '/'\n",
    "    changes = np.loadtxt(fname + 'changes.txt', dtype=str, encoding='utf-8')\n",
    "\n",
    "    for change in changes:\n",
    "        change = str(change)\n",
    "        s_path = law + '/'+ change\n",
    "        html_to_str_to_tensor(path + change + '/old.html', \n",
    "                              s_path +'/old')\n",
    "        html_to_str_to_tensor(path + change + '/change.html', \n",
    "                              s_path +'/change')\n",
    "        html_to_str_to_tensor(path + change + '/new.html',\n",
    "                              s_path + '/new')\n",
    "        \n",
    "    return"
   ]
  },
  {
   "cell_type": "code",
   "execution_count": 223,
   "id": "ad72dbf9",
   "metadata": {},
   "outputs": [],
   "source": [
    "def get_data():\n",
    "\n",
    "    fname = '../Data_Laws/'\n",
    "    laws = np.loadtxt(fname + 'done_with.txt', dtype=str, encoding='utf-8')\n",
    "\n",
    "    for i in range(len(laws)):\n",
    "        print(laws[i], i)\n",
    "        get_old_change_new(laws[i])\n",
    "    \n",
    "    return"
   ]
  },
  {
   "cell_type": "code",
   "execution_count": 224,
   "id": "8cd42c91",
   "metadata": {
    "scrolled": true
   },
   "outputs": [
    {
     "name": "stdout",
     "output_type": "stream",
     "text": [
      "KWG 83\n"
     ]
    }
   ],
   "source": [
    "get_data()"
   ]
  }
 ],
 "metadata": {
  "kernelspec": {
   "display_name": "Python 3 (ipykernel)",
   "language": "python",
   "name": "python3"
  },
  "language_info": {
   "codemirror_mode": {
    "name": "ipython",
    "version": 3
   },
   "file_extension": ".py",
   "mimetype": "text/x-python",
   "name": "python",
   "nbconvert_exporter": "python",
   "pygments_lexer": "ipython3",
   "version": "3.8.8"
  }
 },
 "nbformat": 4,
 "nbformat_minor": 5
}
